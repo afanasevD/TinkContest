{
 "cells": [
  {
   "cell_type": "markdown",
   "id": "e06bf3d0",
   "metadata": {},
   "source": [
    "# GRID TRADING STRATEGY"
   ]
  },
  {
   "cell_type": "markdown",
   "id": "fd31f376",
   "metadata": {},
   "source": [
    "### IMPORTS"
   ]
  },
  {
   "cell_type": "code",
   "execution_count": 20,
   "id": "443c1f1e",
   "metadata": {},
   "outputs": [],
   "source": [
    "import pandas as pd\n",
    "import matplotlib.pyplot as plt\n",
    "import os\n",
    "import pandas as pd\n",
    "from multiprocessing import Process\n",
    "from datetime import timedelta\n",
    "import datetime \n",
    "from datetime import date, datetime\n",
    "import time\n",
    "from decimal import Decimal\n",
    "from tinkoff.invest.utils import decimal_to_quotation, quotation_to_decimal\n",
    "\n",
    "from tinkoff.invest import (\n",
    "    CandleInstrument,\n",
    "    Client,\n",
    "    MarketDataRequest,\n",
    "    SubscribeCandlesRequest,\n",
    "    SubscriptionAction,\n",
    "    SubscriptionInterval,\n",
    "    OrderDirection,\n",
    "    OrderType,\n",
    "    SandboxPayInRequest\n",
    ")\n",
    "\n",
    "from tinkoff.invest.sandbox.client import SandboxClient\n",
    "\n",
    "from tinkoff.invest import CandleInterval, Client\n",
    "from tinkoff.invest.utils import now\n",
    "\n",
    "read = open(r\"C:\\Users\\Dmitrii\\Desktop\\finance tests\\token.txt\", 'r')\n",
    "for line in read:\n",
    "    token = line\n",
    "read.close()\n",
    "\n",
    "TOKEN = token"
   ]
  },
  {
   "cell_type": "markdown",
   "id": "b3605a30",
   "metadata": {},
   "source": [
    "### CLASS FOR BOT INFO"
   ]
  },
  {
   "cell_type": "code",
   "execution_count": 21,
   "id": "87150fb7",
   "metadata": {},
   "outputs": [],
   "source": [
    "class info(object):\n",
    "    def __init__(self,position_arr, profits, curent_date, firstlevels, secondlevels, firstbuy, secondbuy):\n",
    "        self.position_arr = position_arr\n",
    "        self.profits = profits\n",
    "        self.curent_date = curent_date\n",
    "        self.firstlevels = firstlevels\n",
    "        self.secondlevels = secondlevels\n",
    "        self.firstbuy = firstbuy\n",
    "        self.secondbuy = secondbuy"
   ]
  },
  {
   "cell_type": "code",
   "execution_count": 22,
   "id": "eacc2292",
   "metadata": {},
   "outputs": [],
   "source": [
    "def make_bot_info(ticker, acc_id):\n",
    "    bot_info = 0\n",
    "    try:\n",
    "        bot_info_text_file = open(f'sandbox_bot_info_{ticker}_{acc_id}.txt','r')\n",
    "        bot_info_text = bot_info_text_file.read()\n",
    "        if len(bot_info_text) == 0:\n",
    "            bot_info = info([False, False], 0,pd.to_datetime('1990-05-02'), [], [], 0, 0)\n",
    "        else:\n",
    "            rows = bot_info_text.split('\\n')\n",
    "            if rows[0].split(', ')[0][1:] == 'True':\n",
    "                first = True\n",
    "            else:\n",
    "                first = False\n",
    "            if rows[0].split(', ')[1][:-1] == 'True':\n",
    "                second = True\n",
    "            else:\n",
    "                second = False\n",
    "            position_array = [first, second]\n",
    "            profits = float(rows[1])\n",
    "            current_day = pd.to_datetime(rows[2])\n",
    "            furstlevels = (float(rows[3].split(',')[0][1:]),float(rows[3].split(',')[1][:-1]))\n",
    "            secondlevels = (float(rows[4].split(',')[0][1:]),float(rows[4].split(',')[1][:-1]))\n",
    "            firstbuy = float(rows[5])\n",
    "            secondbuy = float(rows[6])\n",
    "            bot_info = info(position_array, profits,current_day,furstlevels,secondlevels,firstbuy, secondbuy)\n",
    "        bot_info_text_file.close()\n",
    "    except:\n",
    "        bot_info = info([False, False], 0,pd.to_datetime('1990-05-02'),[],[], 0, 0)\n",
    "    return bot_info"
   ]
  },
  {
   "cell_type": "markdown",
   "id": "2f8fc696",
   "metadata": {},
   "source": [
    "### FUNCTIONS FOR SANDBOX ASCCOUNT"
   ]
  },
  {
   "cell_type": "code",
   "execution_count": 23,
   "id": "0934e4ea",
   "metadata": {},
   "outputs": [],
   "source": [
    "def get_sandbox_account_id(name):\n",
    "    with SandboxClient(TOKEN) as client:\n",
    "        accounts = client.users.get_accounts().accounts\n",
    "        for account in accounts:\n",
    "            if account.name == name:\n",
    "                return account.id\n",
    "        return -1"
   ]
  },
  {
   "cell_type": "code",
   "execution_count": 24,
   "id": "f4c4398c",
   "metadata": {},
   "outputs": [],
   "source": [
    "def insert_money(acc_id, ammount):\n",
    "    amount_dec = decimal_to_quotation(Decimal(str(ammount)))\n",
    "    with SandboxClient(TOKEN) as client:\n",
    "        balance = client.sandbox.sandbox_pay_in(account_id=acc_id, amount=amount_dec)\n",
    "        return balance"
   ]
  },
  {
   "cell_type": "code",
   "execution_count": 25,
   "id": "02880645",
   "metadata": {},
   "outputs": [],
   "source": [
    "def get_portfolio(acc_id):\n",
    "    return client.sandbox.get_sandbox_portfolio(account_id=first_sandbox_acc_id)"
   ]
  },
  {
   "cell_type": "markdown",
   "id": "70d9b8f9",
   "metadata": {},
   "source": [
    "### STRATEGY FUNCTIONS"
   ]
  },
  {
   "cell_type": "code",
   "execution_count": 26,
   "id": "424d9f57",
   "metadata": {},
   "outputs": [],
   "source": [
    "def get_data_tink(ticker, date_needed):\n",
    "    \n",
    "    figi = get_figi(ticker)\n",
    "\n",
    "    Y,m,d = int(date_needed.split('-')[0]), int(date_needed.split('-')[1]), int(date_needed.split('-')[2])\n",
    "    dt_object = date(Y, m, d)\n",
    "    delta = now().date() - dt_object\n",
    "    \n",
    "    frame = pd.DataFrame(columns = ['Time', 'Open', 'High', 'Low', 'Close', 'Volume'])\n",
    "    with Client(TOKEN) as client:\n",
    "        for candle in client.get_all_candles(\n",
    "            figi=figi,\n",
    "            from_=now() - timedelta(days=delta.days),\n",
    "            interval=CandleInterval.CANDLE_INTERVAL_1_MIN,\n",
    "        ):\n",
    "            time = pd.to_datetime(candle.time + timedelta(hours=3))\n",
    "            open_ = candle.open.units+candle.open.nano*10**(-9)\n",
    "            high_ = candle.high.units+candle.high.nano*10**(-9)\n",
    "            low_ = candle.low.units+candle.low.nano*10**(-9)\n",
    "            close_ = candle.close.units+candle.close.nano*10**(-9)\n",
    "            volume_ = candle.volume\n",
    "            new_row = [time, open_, high_, low_, close_, volume_]\n",
    "            frame.loc[len(frame.index)] = new_row\n",
    "    frame.set_index('Time', inplace = True)\n",
    "    return frame"
   ]
  },
  {
   "cell_type": "code",
   "execution_count": 27,
   "id": "f5a96cb9",
   "metadata": {},
   "outputs": [],
   "source": [
    "def get_figi(ticker):\n",
    "    \n",
    "    ticker = ticker\n",
    "    \n",
    "    with Client(TOKEN) as client:\n",
    "        instruments: InstrumentsService = client.instruments\n",
    "        tickers = []\n",
    "        for method in [\"shares\", \"bonds\", \"etfs\", \"currencies\", \"futures\"]:\n",
    "            for item in getattr(instruments, method)().instruments:\n",
    "                tickers.append(\n",
    "                    {\n",
    "                        \"ticker\": item.ticker,\n",
    "                        \"figi\": item.figi,\n",
    "                    }\n",
    "                )\n",
    "\n",
    "        tickers_df = pd.DataFrame(tickers)\n",
    "\n",
    "        ticker_df = tickers_df[tickers_df[\"ticker\"] == ticker]\n",
    "        if ticker_df.empty:\n",
    "            logger.error(\"There is no such ticker: %s\", ticker)\n",
    "            return\n",
    "\n",
    "        figi = ticker_df[\"figi\"].iloc[0]\n",
    "        return figi"
   ]
  },
  {
   "cell_type": "code",
   "execution_count": 28,
   "id": "7b1064e4",
   "metadata": {},
   "outputs": [],
   "source": [
    "def get_lot(ticker):\n",
    "    ticker = ticker\n",
    "    \n",
    "    with Client(TOKEN) as client:\n",
    "        instruments: InstrumentsService = client.instruments\n",
    "        tickers = []\n",
    "        for method in [\"shares\", \"bonds\", \"etfs\", \"currencies\", \"futures\"]:\n",
    "            for item in getattr(instruments, method)().instruments:\n",
    "                tickers.append(\n",
    "                    {\n",
    "                        \"ticker\": item.ticker,\n",
    "                        \"lot\": item.lot,\n",
    "                    }\n",
    "                )\n",
    "\n",
    "        tickers_df = pd.DataFrame(tickers)\n",
    "\n",
    "        ticker_df = tickers_df[tickers_df[\"ticker\"] == ticker]\n",
    "        if ticker_df.empty:\n",
    "            logger.error(\"There is no such ticker: %s\", ticker)\n",
    "            return\n",
    "\n",
    "        lot = ticker_df[\"lot\"].iloc[0]\n",
    "        return lot"
   ]
  },
  {
   "cell_type": "code",
   "execution_count": 29,
   "id": "2907b578",
   "metadata": {},
   "outputs": [],
   "source": [
    "def buy(acc_id, ticker, price, quantity):\n",
    "    lot = int(get_lot(ticker))\n",
    "    lot_price = float(lot*price)\n",
    "    figi = get_figi(ticker)\n",
    "    with Client(TOKEN) as client:\n",
    "        response = client.users.get_accounts()\n",
    "        account, *_ = response.accounts\n",
    "        response = client.sandbox.post_sandbox_order(\n",
    "            figi=figi,\n",
    "            quantity=quantity,\n",
    "            price=decimal_to_quotation(Decimal(str(lot_price))),\n",
    "            direction=OrderDirection.ORDER_DIRECTION_BUY,\n",
    "            account_id = acc_id,\n",
    "            order_type=OrderType.ORDER_TYPE_MARKET,\n",
    "        )\n",
    "    return response"
   ]
  },
  {
   "cell_type": "code",
   "execution_count": 30,
   "id": "eeead237",
   "metadata": {},
   "outputs": [],
   "source": [
    "def sell(acc_id, ticker, price, quantity):\n",
    "    lot = int(get_lot(ticker))\n",
    "    lot_price = float(lot*price)\n",
    "    figi = get_figi(ticker)\n",
    "    with Client(TOKEN) as client:\n",
    "        response = client.users.get_accounts()\n",
    "        account, *_ = response.accounts\n",
    "        response = client.sandbox.post_sandbox_order(\n",
    "            figi=figi,\n",
    "            quantity=quantity,\n",
    "            price=decimal_to_quotation(Decimal(str(lot_price))),\n",
    "            direction=OrderDirection.ORDER_DIRECTION_SELL,\n",
    "            account_id = acc_id,\n",
    "            order_type=OrderType.ORDER_TYPE_MARKET,\n",
    "        )\n",
    "    return response"
   ]
  },
  {
   "cell_type": "code",
   "execution_count": 31,
   "id": "89139a9e",
   "metadata": {},
   "outputs": [],
   "source": [
    "def get_first_open_price(date, ticker):\n",
    "    df = get_data_tink(ticker, (date - timedelta(days=1)).strftime('%Y-%m-%d'))\n",
    "    open_price = df.resample('1h').first().Open[date]\n",
    "    return open_price"
   ]
  },
  {
   "cell_type": "code",
   "execution_count": 32,
   "id": "262596dd",
   "metadata": {},
   "outputs": [],
   "source": [
    "def getlevels(date, ticker, first=True):\n",
    "    open_price = get_first_open_price(date, ticker)\n",
    "    if first:\n",
    "        return round(open_price * 0.998, 6), round(open_price * 1.002, 6)\n",
    "    else:\n",
    "        return round(open_price * 0.994, 6), round(open_price * 0.998, 6)"
   ]
  },
  {
   "cell_type": "code",
   "execution_count": 33,
   "id": "822b101f",
   "metadata": {},
   "outputs": [],
   "source": [
    "def new_strategy_logic(acc_id, ticker, low_, high_, bot_info, quantity):\n",
    "    if not any(bot_info.position_arr) and bot_info.curent_date.strftime(\"%Y-%m-%d\") != date.today().strftime(\"%Y-%m-%d\") and int(bot_info.curent_date.strftime(\"%H\")) == int((datetime.now()-timedelta(minutes=1)).strftime(\"%H\")) or not any(bot_info.position_arr) and int(bot_info.curent_date.strftime(\"%H\")) != int((datetime.now()-timedelta(minutes=1)).strftime(\"%H\")):\n",
    "        bot_info.curent_date = datetime.now()\n",
    "        file = open(f'sandbox_results_{ticker}_{acc_id}.txt', 'a')\n",
    "        file.write('=======================\\n')\n",
    "        print('=======================')\n",
    "        hour = int(bot_info.curent_date.strftime(\"%H\"))\n",
    "        date_needed = bot_info.curent_date.strftime(\"%Y-%m-%d\")\n",
    "        bot_info.curent_date = pd.to_datetime(f'{date_needed} {hour}:00:00+00:00')\n",
    "        print(bot_info.curent_date)\n",
    "        file.write(f'{bot_info.curent_date}\\n')\n",
    "        bot_info.firstlevels = getlevels(bot_info.curent_date, ticker)\n",
    "        bot_info.secondlevels = getlevels(bot_info.curent_date, ticker, first=False)\n",
    "        print(bot_info.firstlevels, bot_info.secondlevels)\n",
    "        file.write(f'{bot_info.firstlevels} {bot_info.secondlevels}\\n')\n",
    "        file.write(f'{bot_info.firstbuy}\\n')\n",
    "        file.write(f'{bot_info.secondbuy}')\n",
    "        print('=======================')\n",
    "        file.write('\\n=======================\\n')\n",
    "        file.close()\n",
    "    if not bot_info.position_arr[0]:\n",
    "        if low_ <= bot_info.firstlevels[0]:\n",
    "            file = open(f'sandbox_results_{ticker}_{acc_id}.txt', 'a')\n",
    "            print('buy', datetime.now())\n",
    "            file.write(f'buy {datetime.now()}\\n')\n",
    "            buy_1_response = buy(acc_id, ticker, bot_info.firstlevels[0], quantity)\n",
    "            buy_1 = float(quotation_to_decimal(buy_1_response.initial_order_price))\n",
    "            comission_1 = float(quotation_to_decimal(buy_1_response.initial_commission))\n",
    "            bot_info.firstbuy = buy_1+comission_1\n",
    "            bot_info.position_arr[0] = True\n",
    "            file.close()\n",
    "    elif bot_info.position_arr[0] and not bot_info.position_arr[1]:\n",
    "        if low_ <= bot_info.secondlevels[0]:\n",
    "            file = open(f'sandbox_results_{ticker}_{acc_id}.txt', 'a')\n",
    "            print('buy second', datetime.now())\n",
    "            file.write(f'buy second {datetime.now()}\\n')\n",
    "            buy_2_response = buy(acc_id, ticker, bot_info.secondlevels[0], quantity)\n",
    "            buy_2 = float(quotation_to_decimal(buy_2_response.initial_order_price))\n",
    "            comission_2 = float(quotation_to_decimal(buy_2_response.initial_commission))\n",
    "            bot_info.secondbuy = buy_2+comission_2\n",
    "            bot_info.position_arr[1] = True\n",
    "            file.close()\n",
    "        elif high_ >= bot_info.firstlevels[1]:\n",
    "            file = open(f'sandbox_results_{ticker}_{acc_id}.txt', 'a')\n",
    "            print('sell', datetime.now())\n",
    "            file.write(f'sell {datetime.now()}\\n')\n",
    "            sell_1_responce = sell(acc_id, ticker, bot_info.firstlevels[1], quantity)\n",
    "            bot_info.position_arr[0] = False\n",
    "            sell_price = float(quotation_to_decimal(sell_1_responce.initial_order_price))\n",
    "            comition = float(quotation_to_decimal(sell_1_responce.initial_commission))\n",
    "            firstprofit = sell_price - comition - bot_info.firstbuy\n",
    "            bot_info.profits += firstprofit\n",
    "            file.close()\n",
    "    elif bot_info.position_arr[1]:\n",
    "        if high_ >= bot_info.secondlevels[1]:\n",
    "            file = open(f'sandbox_results_{ticker}_{acc_id}.txt', 'a')\n",
    "            print('sell second', datetime.now())\n",
    "            file.write(f'sell second {datetime.now()}\\n')\n",
    "            sell_2_responce = sell(acc_id, ticker, bot_info.secondlevels[1], quantity)\n",
    "            bot_info.position_arr[1] = False\n",
    "            sell_price = float(quotation_to_decimal(sell_2_responce.initial_order_price))\n",
    "            comition = float(quotation_to_decimal(sell_2_responce.initial_commission))\n",
    "            secondprofit = sell_price - comition - bot_info.secondbuy\n",
    "            bot_info.profits += secondprofit\n",
    "            file.close()\n",
    "    file_bot_info = open(f'sandbox_bot_info_{ticker}_{acc_id}.txt','w')\n",
    "    file_bot_info.write(f'{bot_info.position_arr}\\n{bot_info.profits}\\n{bot_info.curent_date}\\n{bot_info.firstlevels}\\n{bot_info.secondlevels}\\n{bot_info.firstbuy}\\n{bot_info.secondbuy}')\n",
    "    file_bot_info.close()"
   ]
  },
  {
   "cell_type": "code",
   "execution_count": 34,
   "id": "2ddd6290",
   "metadata": {},
   "outputs": [],
   "source": [
    "def request_iterator(figi):\n",
    "    yield MarketDataRequest(\n",
    "        subscribe_candles_request=SubscribeCandlesRequest(\n",
    "            waiting_close=True,\n",
    "            subscription_action=SubscriptionAction.SUBSCRIPTION_ACTION_SUBSCRIBE,\n",
    "            instruments=[\n",
    "                CandleInstrument(\n",
    "                    figi=figi,\n",
    "                    interval=SubscriptionInterval.SUBSCRIPTION_INTERVAL_ONE_MINUTE,\n",
    "                )\n",
    "            ],\n",
    "        )\n",
    "    )\n",
    "    while True:\n",
    "        time.sleep(1)"
   ]
  },
  {
   "cell_type": "code",
   "execution_count": 35,
   "id": "71ec41d5",
   "metadata": {},
   "outputs": [],
   "source": [
    "def start_sandbox_bot(acc_id, ticker, TOKEN, quantity):\n",
    "    bot_info = make_bot_info(ticker, acc_id)\n",
    "    print(bot_info.position_arr)\n",
    "    print(bot_info.firstlevels)\n",
    "    print(bot_info.secondlevels)\n",
    "    figi = get_figi(ticker)\n",
    "    with Client(TOKEN) as client:\n",
    "        for marketdata in client.market_data_stream.market_data_stream(\n",
    "            request_iterator(figi)\n",
    "        ):\n",
    "            if marketdata.candle!=None:\n",
    "                high_ = marketdata.candle.high.units+marketdata.candle.high.nano*10**(-9)\n",
    "                low_ = marketdata.candle.low.units+marketdata.candle.low.nano*10**(-9)\n",
    "                new_strategy_logic(acc_id, ticker, low_, high_, bot_info, quantity)"
   ]
  },
  {
   "cell_type": "markdown",
   "id": "e5019a8e",
   "metadata": {},
   "source": [
    "### WORKING PART OF CODE"
   ]
  },
  {
   "cell_type": "code",
   "execution_count": 36,
   "id": "07e8d4e5",
   "metadata": {},
   "outputs": [],
   "source": [
    "first_sandbox_acc_id = get_sandbox_account_id('contest2024:afanasevD/TinkContest:1')"
   ]
  },
  {
   "cell_type": "code",
   "execution_count": null,
   "id": "6f2e68f8",
   "metadata": {},
   "outputs": [
    {
     "name": "stdout",
     "output_type": "stream",
     "text": [
      "[False, False]\n",
      "(0.02, 0.02)\n",
      "(0.02, 0.02)\n"
     ]
    },
    {
     "name": "stderr",
     "output_type": "stream",
     "text": [
      "C:\\Users\\Dmitrii\\AppData\\Roaming\\Python\\Python38\\site-packages\\google\\protobuf\\symbol_database.py:55: UserWarning: SymbolDatabase.GetPrototype() is deprecated. Please use message_factory.GetMessageClass() instead. SymbolDatabase.GetPrototype() will be removed soon.\n",
      "  warnings.warn('SymbolDatabase.GetPrototype() is deprecated. Please '\n"
     ]
    }
   ],
   "source": [
    "start_sandbox_bot(first_sandbox_acc_id, 'VTBR',TOKEN, 1)"
   ]
  },
  {
   "cell_type": "markdown",
   "id": "e8f8b9e2",
   "metadata": {},
   "source": [
    "#### TRASH"
   ]
  },
  {
   "cell_type": "code",
   "execution_count": null,
   "id": "fface0cb",
   "metadata": {
    "scrolled": true
   },
   "outputs": [],
   "source": [
    "#insert_money(first_sandbox_acc_id, 8700)"
   ]
  },
  {
   "cell_type": "code",
   "execution_count": null,
   "id": "7f179b10",
   "metadata": {},
   "outputs": [],
   "source": [
    "# def start_trading(Tickers, TOKEN, trading_sizes):\n",
    "#     for i in range(len(Tickers)):\n",
    "#         process = Process(target=start_sandbox_bot, args=(first_sandbox_acc_id,Tickers[i], TOKEN, trading_sizes[i],))\n",
    "#         process.start()"
   ]
  },
  {
   "cell_type": "code",
   "execution_count": null,
   "id": "3998af9d",
   "metadata": {},
   "outputs": [],
   "source": [
    "# Tickers = ['SBER','VTBR','RNFT','AFLT','TATN']\n",
    "# trading_sizes = ['1','1','1','1','1']"
   ]
  },
  {
   "cell_type": "code",
   "execution_count": null,
   "id": "7dca3b08",
   "metadata": {},
   "outputs": [],
   "source": []
  }
 ],
 "metadata": {
  "kernelspec": {
   "display_name": "Python 3",
   "language": "python",
   "name": "python3"
  },
  "language_info": {
   "codemirror_mode": {
    "name": "ipython",
    "version": 3
   },
   "file_extension": ".py",
   "mimetype": "text/x-python",
   "name": "python",
   "nbconvert_exporter": "python",
   "pygments_lexer": "ipython3",
   "version": "3.8.3"
  }
 },
 "nbformat": 4,
 "nbformat_minor": 5
}
