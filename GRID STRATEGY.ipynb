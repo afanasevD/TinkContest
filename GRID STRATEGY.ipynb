{
 "cells": [
  {
   "cell_type": "code",
   "execution_count": 1,
   "id": "1bcbc5ec",
   "metadata": {},
   "outputs": [
    {
     "ename": "NameError",
     "evalue": "name 'sys' is not defined",
     "output_type": "error",
     "traceback": [
      "\u001b[1;31m---------------------------------------------------------------------------\u001b[0m",
      "\u001b[1;31mNameError\u001b[0m                                 Traceback (most recent call last)",
      "\u001b[1;32m<ipython-input-1-3fb00cab2ee7>\u001b[0m in \u001b[0;36m<module>\u001b[1;34m\u001b[0m\n\u001b[0;32m      2\u001b[0m \u001b[0mscript_dir\u001b[0m \u001b[1;33m=\u001b[0m \u001b[0mos\u001b[0m\u001b[1;33m.\u001b[0m\u001b[0mpath\u001b[0m\u001b[1;33m.\u001b[0m\u001b[0mabspath\u001b[0m\u001b[1;33m(\u001b[0m\u001b[0mos\u001b[0m\u001b[1;33m.\u001b[0m\u001b[0mgetcwd\u001b[0m\u001b[1;33m(\u001b[0m\u001b[1;33m)\u001b[0m\u001b[1;33m)\u001b[0m\u001b[1;33m\u001b[0m\u001b[1;33m\u001b[0m\u001b[0m\n\u001b[0;32m      3\u001b[0m \u001b[0mmymodule_dir\u001b[0m \u001b[1;33m=\u001b[0m \u001b[0mos\u001b[0m\u001b[1;33m.\u001b[0m\u001b[0mpath\u001b[0m\u001b[1;33m.\u001b[0m\u001b[0mjoin\u001b[0m\u001b[1;33m(\u001b[0m \u001b[0mscript_dir\u001b[0m\u001b[1;33m,\u001b[0m \u001b[1;34m'..'\u001b[0m\u001b[1;33m)\u001b[0m\u001b[1;33m\u001b[0m\u001b[1;33m\u001b[0m\u001b[0m\n\u001b[1;32m----> 4\u001b[1;33m \u001b[0msys\u001b[0m\u001b[1;33m.\u001b[0m\u001b[0mpath\u001b[0m\u001b[1;33m.\u001b[0m\u001b[0mappend\u001b[0m\u001b[1;33m(\u001b[0m \u001b[0mmymodule_dir\u001b[0m \u001b[1;33m)\u001b[0m\u001b[1;33m\u001b[0m\u001b[1;33m\u001b[0m\u001b[0m\n\u001b[0m\u001b[0;32m      5\u001b[0m \u001b[1;32mimport\u001b[0m \u001b[0mTink_functions\u001b[0m \u001b[1;32mas\u001b[0m \u001b[0mTF\u001b[0m\u001b[1;33m\u001b[0m\u001b[1;33m\u001b[0m\u001b[0m\n",
      "\u001b[1;31mNameError\u001b[0m: name 'sys' is not defined"
     ]
    }
   ],
   "source": [
    "import os\n",
    "import sys\n",
    "script_dir = os.path.abspath(os.getcwd())\n",
    "mymodule_dir = os.path.join( script_dir, '..')\n",
    "sys.path.append( mymodule_dir )\n",
    "import Tink_functions as TF"
   ]
  },
  {
   "cell_type": "code",
   "execution_count": 17,
   "id": "782fa3ee",
   "metadata": {
    "scrolled": false
   },
   "outputs": [
    {
     "name": "stderr",
     "output_type": "stream",
     "text": [
      "2024-04-15 22:30:53.079 b285758a24008c8d845c42a571e0b3ff Shares\n",
      "2024-04-15 22:30:53.692 c3206a2f034e81bad5b634b8e91bdace Bonds\n",
      "2024-04-15 22:30:54.071 cfa47b3c408aa65d0925dae7b2ddff85 Etfs\n",
      "2024-04-15 22:30:54.185 f0ec7afaeeb4a4ff52fbdb294483d8d0 Currencies\n",
      "2024-04-15 22:30:54.238 59547c19a7dcc10cfbe7eafc10b781cc Futures\n",
      "2024-04-15 22:30:54.404 816321282fb82ecf9409155b44e0b675 GetCandles\n"
     ]
    },
    {
     "data": {
      "text/html": [
       "<div>\n",
       "<style scoped>\n",
       "    .dataframe tbody tr th:only-of-type {\n",
       "        vertical-align: middle;\n",
       "    }\n",
       "\n",
       "    .dataframe tbody tr th {\n",
       "        vertical-align: top;\n",
       "    }\n",
       "\n",
       "    .dataframe thead th {\n",
       "        text-align: right;\n",
       "    }\n",
       "</style>\n",
       "<table border=\"1\" class=\"dataframe\">\n",
       "  <thead>\n",
       "    <tr style=\"text-align: right;\">\n",
       "      <th></th>\n",
       "      <th>Open</th>\n",
       "      <th>High</th>\n",
       "      <th>Low</th>\n",
       "      <th>Close</th>\n",
       "      <th>Volume</th>\n",
       "    </tr>\n",
       "    <tr>\n",
       "      <th>Time</th>\n",
       "      <th></th>\n",
       "      <th></th>\n",
       "      <th></th>\n",
       "      <th></th>\n",
       "      <th></th>\n",
       "    </tr>\n",
       "  </thead>\n",
       "  <tbody>\n",
       "    <tr>\n",
       "      <th>2024-04-10 03:00:00+00:00</th>\n",
       "      <td>706.5</td>\n",
       "      <td>711.9</td>\n",
       "      <td>701.1</td>\n",
       "      <td>709.2</td>\n",
       "      <td>1096031</td>\n",
       "    </tr>\n",
       "    <tr>\n",
       "      <th>2024-04-11 03:00:00+00:00</th>\n",
       "      <td>709.0</td>\n",
       "      <td>712.0</td>\n",
       "      <td>707.6</td>\n",
       "      <td>708.9</td>\n",
       "      <td>956277</td>\n",
       "    </tr>\n",
       "    <tr>\n",
       "      <th>2024-04-12 03:00:00+00:00</th>\n",
       "      <td>710.3</td>\n",
       "      <td>723.0</td>\n",
       "      <td>707.1</td>\n",
       "      <td>714.9</td>\n",
       "      <td>2549653</td>\n",
       "    </tr>\n",
       "    <tr>\n",
       "      <th>2024-04-15 03:00:00+00:00</th>\n",
       "      <td>716.0</td>\n",
       "      <td>740.9</td>\n",
       "      <td>716.0</td>\n",
       "      <td>737.3</td>\n",
       "      <td>4065451</td>\n",
       "    </tr>\n",
       "  </tbody>\n",
       "</table>\n",
       "</div>"
      ],
      "text/plain": [
       "                            Open   High    Low  Close   Volume\n",
       "Time                                                          \n",
       "2024-04-10 03:00:00+00:00  706.5  711.9  701.1  709.2  1096031\n",
       "2024-04-11 03:00:00+00:00  709.0  712.0  707.6  708.9   956277\n",
       "2024-04-12 03:00:00+00:00  710.3  723.0  707.1  714.9  2549653\n",
       "2024-04-15 03:00:00+00:00  716.0  740.9  716.0  737.3  4065451"
      ]
     },
     "execution_count": 17,
     "metadata": {},
     "output_type": "execute_result"
    }
   ],
   "source": [
    "TF.get_data_tink('TATN', '2024-04-10', candle_interval='1-day')"
   ]
  },
  {
   "cell_type": "code",
   "execution_count": null,
   "id": "2eedb50d",
   "metadata": {},
   "outputs": [],
   "source": []
  }
 ],
 "metadata": {
  "kernelspec": {
   "display_name": "Python 3",
   "language": "python",
   "name": "python3"
  },
  "language_info": {
   "codemirror_mode": {
    "name": "ipython",
    "version": 3
   },
   "file_extension": ".py",
   "mimetype": "text/x-python",
   "name": "python",
   "nbconvert_exporter": "python",
   "pygments_lexer": "ipython3",
   "version": "3.8.3"
  }
 },
 "nbformat": 4,
 "nbformat_minor": 5
}
