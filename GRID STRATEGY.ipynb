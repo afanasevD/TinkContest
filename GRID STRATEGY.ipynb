{
 "cells": [
  {
   "cell_type": "code",
   "execution_count": 3,
   "id": "e549b5de",
   "metadata": {},
   "outputs": [],
   "source": [
    "import os\n",
    "import sys\n",
    "script_dir = os.path.abspath(os.getcwd())\n",
    "mymodule_dir = os.path.join( script_dir, '../..')\n",
    "sys.path.append( mymodule_dir )\n",
    "import Tink_functions as TF"
   ]
  },
  {
   "cell_type": "code",
   "execution_count": 6,
   "id": "f374d0f5",
   "metadata": {},
   "outputs": [],
   "source": [
    "df = TF.get_data_tink('SBER', '2024-04-01')"
   ]
  },
  {
   "cell_type": "code",
   "execution_count": null,
   "id": "faeda9b8",
   "metadata": {},
   "outputs": [],
   "source": []
  }
 ],
 "metadata": {
  "kernelspec": {
   "display_name": "Python 3",
   "language": "python",
   "name": "python3"
  },
  "language_info": {
   "codemirror_mode": {
    "name": "ipython",
    "version": 3
   },
   "file_extension": ".py",
   "mimetype": "text/x-python",
   "name": "python",
   "nbconvert_exporter": "python",
   "pygments_lexer": "ipython3",
   "version": "3.8.3"
  }
 },
 "nbformat": 4,
 "nbformat_minor": 5
}
